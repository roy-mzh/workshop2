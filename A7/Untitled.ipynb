{
 "cells": [
  {
   "cell_type": "code",
   "execution_count": 3,
   "metadata": {},
   "outputs": [
    {
     "name": "stdout",
     "output_type": "stream",
     "text": [
      "+------------------+--------+--------------------+-------------------+-----------+------+\n",
      "|               _c0|     _c1|                 _c2|                _c3|        _c4|   _c5|\n",
      "+------------------+--------+--------------------+-------------------+-----------+------+\n",
      "|              John|     Doe|   120 jefferson st.|          Riverside|         NJ| 08075|\n",
      "|              Jack|McGinnis|        220 hobo Av.|              Phila|         PA| 09119|\n",
      "| \"John \"\"Da Man\"\"\"|  Repici|   120 Jefferson St.|          Riverside|         NJ| 08075|\n",
      "|           Stephen|   Tyler|\"7452 Terrace \"\"A...|           SomeTown|         SD| 91234|\n",
      "|              null|Blankman|                null|           SomeTown|         SD| 00298|\n",
      "|\"Joan \"\"the bone\"\"|   Anne\"|                 Jet|9th, at Terrace plc|Desert City|    CO|\n",
      "+------------------+--------+--------------------+-------------------+-----------+------+\n",
      "\n"
     ]
    }
   ],
   "source": [
    "from pyspark.sql import SparkSession\n",
    "\n",
    "spark = SparkSession.builder.appName('MyApp').getOrCreate()\n",
    "df = spark.read.csv(\"addresses.csv\")\n",
    "df.show()"
   ]
  },
  {
   "cell_type": "code",
   "execution_count": null,
   "metadata": {},
   "outputs": [],
   "source": []
  },
  {
   "cell_type": "code",
   "execution_count": null,
   "metadata": {},
   "outputs": [],
   "source": []
  }
 ],
 "metadata": {
  "kernelspec": {
   "display_name": "Python 3",
   "language": "python",
   "name": "python3"
  },
  "language_info": {
   "codemirror_mode": {
    "name": "ipython",
    "version": 3
   },
   "file_extension": ".py",
   "mimetype": "text/x-python",
   "name": "python",
   "nbconvert_exporter": "python",
   "pygments_lexer": "ipython3",
   "version": "3.7.6"
  }
 },
 "nbformat": 4,
 "nbformat_minor": 4
}
